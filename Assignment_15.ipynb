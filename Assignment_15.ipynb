{
 "cells": [
  {
   "cell_type": "code",
   "execution_count": 2,
   "id": "928fa2e6",
   "metadata": {},
   "outputs": [
    {
     "name": "stdout",
     "output_type": "stream",
     "text": [
      "bir sayı giriniz :100\n",
      "list of prime numbers [2, 3, 5, 7, 11, 13, 17, 19, 23, 29, 31, 37, 41, 43, 47, 53, 59, 61, 67, 71, 73, 79, 83, 89, 97]\n"
     ]
    }
   ],
   "source": [
    "n = int(input(\"bir sayı giriniz :\"))\n",
    "\n",
    "list = []\n",
    "\n",
    "def fonk(n):\n",
    "\n",
    "    count = 0\n",
    "\n",
    "    for i in range(2, n):\n",
    "\n",
    "        for ii in range(2, i):\n",
    "\n",
    "            if i % ii == 0:\n",
    "\n",
    "                break\n",
    "\n",
    "        else:\n",
    "\n",
    "            list.append(i)\n",
    "\n",
    "            count += 1\n",
    "\n",
    "fonk(n)\n",
    "\n",
    "print(\"list of prime numbers\", list)"
   ]
  },
  {
   "cell_type": "code",
   "execution_count": null,
   "id": "b8b7dbb2",
   "metadata": {},
   "outputs": [],
   "source": []
  }
 ],
 "metadata": {
  "kernelspec": {
   "display_name": "Python 3 (ipykernel)",
   "language": "python",
   "name": "python3"
  },
  "language_info": {
   "codemirror_mode": {
    "name": "ipython",
    "version": 3
   },
   "file_extension": ".py",
   "mimetype": "text/x-python",
   "name": "python",
   "nbconvert_exporter": "python",
   "pygments_lexer": "ipython3",
   "version": "3.9.12"
  }
 },
 "nbformat": 4,
 "nbformat_minor": 5
}
