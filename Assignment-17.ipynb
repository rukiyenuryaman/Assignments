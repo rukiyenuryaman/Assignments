{
 "cells": [
  {
   "cell_type": "code",
   "execution_count": 5,
   "id": "cc68e318",
   "metadata": {},
   "outputs": [
    {
     "name": "stdout",
     "output_type": "stream",
     "text": [
      "give me a sentence :Rukiye Nur Yaman\n"
     ]
    },
    {
     "data": {
      "text/plain": [
       "{'r': 2, 'u': 2, 'k': 1, 'i': 1, 'y': 2, 'e': 1, 'n': 2, 'a': 2, 'm': 1}"
      ]
     },
     "execution_count": 5,
     "metadata": {},
     "output_type": "execute_result"
    }
   ],
   "source": [
    "letters =[]\n",
    "adet = []\n",
    "sentence= input(\"give me a sentence :\").lower().replace(\" \", \"\")\n",
    "for  i in sentence:\n",
    "    letters.append(i)\n",
    "for i in sentence:\n",
    "    tekrar = letters.count(i)\n",
    "    adet.append(tekrar)\n",
    "dict(zip(letters, adet))"
   ]
  },
  {
   "cell_type": "code",
   "execution_count": null,
   "id": "2f154149",
   "metadata": {},
   "outputs": [],
   "source": []
  }
 ],
 "metadata": {
  "kernelspec": {
   "display_name": "Python 3 (ipykernel)",
   "language": "python",
   "name": "python3"
  },
  "language_info": {
   "codemirror_mode": {
    "name": "ipython",
    "version": 3
   },
   "file_extension": ".py",
   "mimetype": "text/x-python",
   "name": "python",
   "nbconvert_exporter": "python",
   "pygments_lexer": "ipython3",
   "version": "3.9.12"
  }
 },
 "nbformat": 4,
 "nbformat_minor": 5
}
