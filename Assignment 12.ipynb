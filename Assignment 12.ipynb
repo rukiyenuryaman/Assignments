{
 "cells": [
  {
   "cell_type": "code",
   "execution_count": 1,
   "id": "f615b784",
   "metadata": {},
   "outputs": [
    {
     "name": "stdout",
     "output_type": "stream",
     "text": [
      "please enter a number : 371\n",
      "371  is an armstrong number\n"
     ]
    }
   ],
   "source": [
    "number = input(\"please enter a number : \")\n",
    "total = 0\n",
    "number.isdigit() == True \n",
    "for i in number:\n",
    "    if number.isdigit():\n",
    "        if int(number) < 0:\n",
    "            print(\"It is an invalid entry. Don't use non-numeric, float, or negative values!\")\n",
    "            \n",
    "        for i in number :\n",
    "              total += int(i)**len(number)\n",
    "        if int(number) == total:\n",
    "                print(number,\" is an armstrong number\")\n",
    "        \n",
    "        else :\n",
    "            print(number, \"is not an armstrong number\")\n",
    "            break\n",
    "    else :\n",
    "        print(\"It is an invalid entry. Don't use non-numeric, float, or negative values!\")\n",
    "    break"
   ]
  },
  {
   "cell_type": "code",
   "execution_count": null,
   "id": "44b1ee9f",
   "metadata": {},
   "outputs": [],
   "source": []
  }
 ],
 "metadata": {
  "kernelspec": {
   "display_name": "Python 3 (ipykernel)",
   "language": "python",
   "name": "python3"
  },
  "language_info": {
   "codemirror_mode": {
    "name": "ipython",
    "version": 3
   },
   "file_extension": ".py",
   "mimetype": "text/x-python",
   "name": "python",
   "nbconvert_exporter": "python",
   "pygments_lexer": "ipython3",
   "version": "3.9.12"
  }
 },
 "nbformat": 4,
 "nbformat_minor": 5
}
