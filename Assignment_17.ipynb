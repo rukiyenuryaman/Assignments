{
 "cells": [
  {
   "cell_type": "code",
   "execution_count": 2,
   "id": "572e8837",
   "metadata": {},
   "outputs": [
    {
     "name": "stdout",
     "output_type": "stream",
     "text": [
      "give me a sentence :Hallo, meine Name ist Hamza,Ich bin 26 jahre alt und ich bin ein programmer\n"
     ]
    },
    {
     "data": {
      "text/plain": [
       "{'h': 5,\n",
       " 'a': 7,\n",
       " 'l': 3,\n",
       " 'o': 2,\n",
       " ',': 2,\n",
       " 'm': 5,\n",
       " 'e': 6,\n",
       " 'i': 7,\n",
       " 'n': 6,\n",
       " 's': 1,\n",
       " 't': 2,\n",
       " 'z': 1,\n",
       " 'c': 2,\n",
       " 'b': 2,\n",
       " '2': 1,\n",
       " '6': 1,\n",
       " 'j': 1,\n",
       " 'r': 4,\n",
       " 'u': 1,\n",
       " 'd': 1,\n",
       " 'p': 1,\n",
       " 'g': 1}"
      ]
     },
     "execution_count": 2,
     "metadata": {},
     "output_type": "execute_result"
    }
   ],
   "source": [
    "# letter counter \n",
    "harfler =[]\n",
    "adet = []\n",
    "sentence= input(\"give me a sentence :\").lower().replace(\" \", \"\")\n",
    "for  i in sentence:\n",
    "    harfler.append(i)\n",
    "\n",
    "for i in sentence:\n",
    "    tekrar = harfler.count(i)\n",
    "    adet.append(tekrar)\n",
    "dict(zip(harfler,adet))"
   ]
  },
  {
   "cell_type": "code",
   "execution_count": null,
   "id": "8da6889e",
   "metadata": {},
   "outputs": [],
   "source": []
  },
  {
   "cell_type": "code",
   "execution_count": null,
   "id": "e9edd9db",
   "metadata": {},
   "outputs": [],
   "source": []
  },
  {
   "cell_type": "code",
   "execution_count": null,
   "id": "8c0f46bb",
   "metadata": {},
   "outputs": [],
   "source": []
  }
 ],
 "metadata": {
  "kernelspec": {
   "display_name": "Python 3 (ipykernel)",
   "language": "python",
   "name": "python3"
  },
  "language_info": {
   "codemirror_mode": {
    "name": "ipython",
    "version": 3
   },
   "file_extension": ".py",
   "mimetype": "text/x-python",
   "name": "python",
   "nbconvert_exporter": "python",
   "pygments_lexer": "ipython3",
   "version": "3.9.12"
  }
 },
 "nbformat": 4,
 "nbformat_minor": 5
}
